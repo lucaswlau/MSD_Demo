{
 "cells": [
  {
   "cell_type": "code",
   "execution_count": 1,
   "id": "ae19e029",
   "metadata": {},
   "outputs": [],
   "source": [
    "import random \n",
    "from collections import defaultdict"
   ]
  },
  {
   "cell_type": "code",
   "execution_count": 8,
   "id": "dfb0d3bf",
   "metadata": {},
   "outputs": [],
   "source": [
    "def makedict():\n",
    "    game_dict = defaultdict(dict)\n",
    "    choice_list = ['rock', 'paper', 'scissor']\n",
    "    for i in choice_list:\n",
    "        for j in choice_list:\n",
    "            if i==j:\n",
    "                game_dict[i][j] = 'draw'\n",
    "            elif (i=='rock' and j == 'scissor') | (i=='paper' and j=='rock') | (i=='scissor' and j=='paper'):\n",
    "                game_dict[i][j] = 'win'\n",
    "            else:\n",
    "                game_dict[i][j] = 'lose'\n",
    "    return game_dict"
   ]
  },
  {
   "cell_type": "code",
   "execution_count": 10,
   "id": "47d2754e",
   "metadata": {},
   "outputs": [],
   "source": [
    "def gametime(user_input):\n",
    "    game_dict = makedict()\n",
    "    comp_input = random.randint(0,2)\n",
    "    comp_choice_dict = {0:'rock',1:'paper',2:'scissor'}\n",
    "    comp_cho = comp_choice_dict[comp_input]\n",
    "    outcome = game_dict[user_input][comp_choice_dict[comp_input]]\n",
    "    return outcome, comp_cho \n"
   ]
  },
  {
   "cell_type": "code",
   "execution_count": 17,
   "id": "311f6f3b",
   "metadata": {},
   "outputs": [
    {
     "name": "stdout",
     "output_type": "stream",
     "text": [
      "enter your choice\n",
      "scissor\n",
      "\n",
      "Computer had scissor.\n",
      "\n",
      "You had scissor.\n",
      "\n",
      "You draw!\n"
     ]
    }
   ],
   "source": [
    "user_choice = input('enter your choice\\n')\n",
    "game_outcome, comp_choice = gametime(user_choice)\n",
    "print(f'\\nComputer had {comp_choice}.\\n')\n",
    "print(f'You had {user_choice}.\\n')\n",
    "print(f'You {game_outcome}!')"
   ]
  }
 ],
 "metadata": {
  "kernelspec": {
   "display_name": "Python 3 (ipykernel)",
   "language": "python",
   "name": "python3"
  },
  "language_info": {
   "codemirror_mode": {
    "name": "ipython",
    "version": 3
   },
   "file_extension": ".py",
   "mimetype": "text/x-python",
   "name": "python",
   "nbconvert_exporter": "python",
   "pygments_lexer": "ipython3",
   "version": "3.9.16"
  }
 },
 "nbformat": 4,
 "nbformat_minor": 5
}
